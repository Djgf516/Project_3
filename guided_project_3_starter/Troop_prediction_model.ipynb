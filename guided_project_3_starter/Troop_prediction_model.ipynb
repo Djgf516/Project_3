{
 "cells": [
  {
   "cell_type": "code",
   "execution_count": 1,
   "id": "ec51a587",
   "metadata": {},
   "outputs": [],
   "source": [
    "import pandas as pd\n",
    "import numpy as np\n",
    "import seaborn as sns"
   ]
  },
  {
   "cell_type": "code",
   "execution_count": 2,
   "id": "9f193132",
   "metadata": {},
   "outputs": [],
   "source": [
    "# Build our DataFrame\n",
    "df = pd.read_csv('troop_movements.csv')"
   ]
  },
  {
   "cell_type": "code",
   "execution_count": 4,
   "id": "54f8216d",
   "metadata": {},
   "outputs": [
    {
     "name": "stdout",
     "output_type": "stream",
     "text": [
      "resistance    503\n",
      "empire        497\n",
      "Name: empire_or_resistance, dtype: int64\n"
     ]
    }
   ],
   "source": [
    "#Data Grouped by counts of empire vs. resistance\n",
    "empire_resistance_counts = df['empire_or_resistance'].value_counts()\n",
    "print(empire_resistance_counts)"
   ]
  },
  {
   "cell_type": "code",
   "execution_count": 5,
   "id": "c7079139",
   "metadata": {},
   "outputs": [],
   "source": [
    "#Counts of characters by homeworld\n"
   ]
  },
  {
   "cell_type": "code",
   "execution_count": null,
   "id": "8f788cb4",
   "metadata": {},
   "outputs": [],
   "source": []
  }
 ],
 "metadata": {
  "kernelspec": {
   "display_name": "Python 3 (ipykernel)",
   "language": "python",
   "name": "python3"
  },
  "language_info": {
   "codemirror_mode": {
    "name": "ipython",
    "version": 3
   },
   "file_extension": ".py",
   "mimetype": "text/x-python",
   "name": "python",
   "nbconvert_exporter": "python",
   "pygments_lexer": "ipython3",
   "version": "3.10.9"
  }
 },
 "nbformat": 4,
 "nbformat_minor": 5
}
